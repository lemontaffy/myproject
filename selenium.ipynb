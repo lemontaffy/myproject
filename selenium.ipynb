{
 "cells": [
  {
   "cell_type": "code",
   "execution_count": 10,
   "metadata": {},
   "outputs": [],
   "source": [
    "#브라우저 실행\n",
    "from selenium import webdriver\n",
    "driver = webdriver.Chrome('C:/Users/soldesk/bigdata/chromedriver.exe')"
   ]
  },
  {
   "cell_type": "code",
   "execution_count": 11,
   "metadata": {},
   "outputs": [],
   "source": [
    "#상장회사 검색\n",
    "driver.get('http://marketdata.krx.co.kr/mdi#document=040601')"
   ]
  },
  {
   "cell_type": "code",
   "execution_count": 12,
   "metadata": {},
   "outputs": [],
   "source": [
    "#다운로드 버튼을 클릭\n",
    "from selenium.webdriver.common.by import By\n",
    "button = driver.find_element(By.XPATH, '//button[text()=\"Excel\"]')\n",
    "button.click()"
   ]
  },
  {
   "cell_type": "code",
   "execution_count": 16,
   "metadata": {},
   "outputs": [],
   "source": [
    "#다운로드 폴더로 이동\n",
    "import os\n",
    "import time\n",
    "folder='C:\\\\Users\\\\soldesk\\\\Downloads'\n",
    "os.chdir(folder)"
   ]
  },
  {
   "cell_type": "code",
   "execution_count": 17,
   "metadata": {},
   "outputs": [],
   "source": [
    "#파일 다운로드까지 대기(1초씩 최대 30회)\n",
    "fname='data.xls'\n",
    "for _ in range(30):\n",
    "    if os.path.exists(fname):\n",
    "        break\n",
    "    time.sleep(1)"
   ]
  },
  {
   "cell_type": "code",
   "execution_count": null,
   "metadata": {},
   "outputs": [],
   "source": [
    "#파일명 바꾸기\n",
    "os.rename('data.xls','상장회사목록.xls')"
   ]
  },
  {
   "cell_type": "code",
   "execution_count": 27,
   "metadata": {},
   "outputs": [
    {
     "data": {
      "text/plain": [
       "'C:\\\\Users\\\\soldesk\\\\bigdata'"
      ]
     },
     "execution_count": 27,
     "metadata": {},
     "output_type": "execute_result"
    }
   ],
   "source": [
    "os.chdir('C:/Users/soldesk/bigdata')\n",
    "os.getcwd()"
   ]
  },
  {
   "cell_type": "code",
   "execution_count": 32,
   "metadata": {},
   "outputs": [],
   "source": [
    "import pandas as pd\n",
    "df_삼성전자 = pd.read_excel('2017년 광고 삼성전자.xlsx')\n",
    "df_삼성전자.set_index('date', inplace=True)\n",
    "df_LG전자 = pd.read_excel('2017년 광고 엘지전자.xlsx')\n",
    "df_LG전자.set_index('date', inplace=True)"
   ]
  },
  {
   "cell_type": "code",
   "execution_count": 33,
   "metadata": {},
   "outputs": [],
   "source": [
    "#이름만 merge이지, merge가 아니라 빈 dataframe에 insert 한 것.\n",
    "df_merge = pd.DataFrame()\n",
    "df_merge['삼성전자'] = df_삼성전자['total']\n",
    "df_merge['LG전자'] = df_LG전자['total']"
   ]
  },
  {
   "cell_type": "code",
   "execution_count": 34,
   "metadata": {},
   "outputs": [],
   "source": [
    "#xlsx로 export.\n",
    "df_merge.to_excel('merged_01.xlsx')"
   ]
  },
  {
   "cell_type": "code",
   "execution_count": 38,
   "metadata": {},
   "outputs": [
    {
     "data": {
      "text/plain": [
       "<Worksheet \"lemon\">"
      ]
     },
     "execution_count": 38,
     "metadata": {},
     "output_type": "execute_result"
    }
   ],
   "source": [
    "import openpyxl\n",
    "\n",
    "#엑셀 파일 열고, 시트 얻기\n",
    "wb = openpyxl.load_workbook('merged_01.xlsx')\n",
    "sheet = wb.active\n",
    "sheet"
   ]
  },
  {
   "cell_type": "code",
   "execution_count": 39,
   "metadata": {},
   "outputs": [
    {
     "data": {
      "text/plain": [
       "[2845600,\n",
       " 2763100,\n",
       " 2679000,\n",
       " 2763600,\n",
       " 2731300,\n",
       " 2825100,\n",
       " 2863200,\n",
       " 2846000,\n",
       " 2817200,\n",
       " 2838500,\n",
       " 2852800,\n",
       " 2888400]"
      ]
     },
     "execution_count": 39,
     "metadata": {},
     "output_type": "execute_result"
    }
   ],
   "source": [
    "#삼성전자 컬럼\n",
    "삼성전자_월광고비 = [row[0].value for row in sheet['B2':'B13']]\n",
    "삼성전자_월광고비"
   ]
  },
  {
   "cell_type": "code",
   "execution_count": 41,
   "metadata": {},
   "outputs": [
    {
     "data": {
      "text/plain": [
       "33713800"
      ]
     },
     "execution_count": 41,
     "metadata": {},
     "output_type": "execute_result"
    }
   ],
   "source": [
    "sum(삼성전자_월광고비)"
   ]
  },
  {
   "cell_type": "code",
   "execution_count": 42,
   "metadata": {},
   "outputs": [],
   "source": [
    "#합계\n",
    "sheet['A14'].value='합계'"
   ]
  },
  {
   "cell_type": "code",
   "execution_count": 43,
   "metadata": {},
   "outputs": [],
   "source": [
    "#합계 계산\n",
    "sheet['B14'].value= sum([row[0].value for row in sheet['B2':'B13']])\n",
    "sheet['C14'].value= sum([row[0].value for row in sheet['C2':'C13']])"
   ]
  },
  {
   "cell_type": "code",
   "execution_count": 45,
   "metadata": {},
   "outputs": [],
   "source": [
    "#가공한 후의 위의 내용이 전부 저장되는 것.\n",
    "wb.save(\"merged_02.xlsx\")"
   ]
  },
  {
   "cell_type": "code",
   "execution_count": 46,
   "metadata": {},
   "outputs": [],
   "source": [
    "sheet['B14'].value= '=SUM(B2:B13)'\n",
    "sheet['C14'].value= '=SUM(C2:C13)'"
   ]
  },
  {
   "cell_type": "code",
   "execution_count": 47,
   "metadata": {},
   "outputs": [],
   "source": [
    "wb.save(\"merged_03.xlsx\")"
   ]
  },
  {
   "cell_type": "code",
   "execution_count": 83,
   "metadata": {},
   "outputs": [],
   "source": [
    "from openpyxl.styles import Font, Alignment, Border, Side, Color, PatternFill\n",
    "from openpyxl.cell import cell\n",
    "#font 특성 지정\n",
    "font_15=Font(name='맑은 고딕', size=15, bold=True)\n",
    "#Alignment: 정렬\n",
    "align_center = Alignment(horizontal='center', vertical='center')\n",
    "align_vcenter = Alignment(vertical='center')"
   ]
  },
  {
   "cell_type": "code",
   "execution_count": 61,
   "metadata": {},
   "outputs": [],
   "source": [
    "#border=테두리 지정\n",
    "border_thin =Border(\n",
    "    left=Side(style='thin'), right=Side(style='thin'),\n",
    "    top=Side(style='thin'), bottom=Side(style='thin')\n",
    ")\n",
    "\n",
    "#patternfill=셀 색상 지정\n",
    "fill_orange=PatternFill(patternType='solid', fgColor=Color('FFC000'))\n",
    "fill_lightgrey=PatternFill(patternType='solid', fgColor=Color('D3D3D3'))"
   ]
  },
  {
   "cell_type": "code",
   "execution_count": 62,
   "metadata": {},
   "outputs": [],
   "source": [
    "cell_sum = sheet['A14'] #합계 제목 셀\n",
    "cell_sum.font=font_15\n",
    "cell_sum.alignment=align_center\n",
    "cell_sum.border=border_thin\n",
    "cell_sum.fill=fill_orange\n",
    "#type(cell_sum)"
   ]
  },
  {
   "cell_type": "code",
   "execution_count": 63,
   "metadata": {},
   "outputs": [],
   "source": [
    "wb.save(\"merged_04.xlsx\")"
   ]
  },
  {
   "cell_type": "code",
   "execution_count": 71,
   "metadata": {},
   "outputs": [],
   "source": [
    "for row in sheet['B2:C14']:\n",
    "    for cell in row:\n",
    "        cell.border=border_thin\n",
    "        cell.number_format='0.00'\n",
    "for row in sheet['B14:C14']:\n",
    "    for cell in row:\n",
    "        cell.alignment=align_vcenter\n",
    "        cell.fill=fill_orange"
   ]
  },
  {
   "cell_type": "code",
   "execution_count": 86,
   "metadata": {},
   "outputs": [
    {
     "ename": "TypeError",
     "evalue": "object of type 'Cell' has no len()",
     "output_type": "error",
     "traceback": [
      "\u001b[1;31m---------------------------------------------------------------------------\u001b[0m",
      "\u001b[1;31mTypeError\u001b[0m                                 Traceback (most recent call last)",
      "\u001b[1;32m<ipython-input-86-006f672475e2>\u001b[0m in \u001b[0;36m<module>\u001b[1;34m()\u001b[0m\n\u001b[0;32m      6\u001b[0m                 \u001b[0mcolumn_widths\u001b[0m\u001b[1;33m[\u001b[0m\u001b[0mi\u001b[0m\u001b[1;33m]\u001b[0m \u001b[1;33m=\u001b[0m \u001b[0mlen\u001b[0m\u001b[1;33m(\u001b[0m\u001b[0mcell\u001b[0m\u001b[1;33m)\u001b[0m\u001b[1;33m\u001b[0m\u001b[0m\n\u001b[0;32m      7\u001b[0m         \u001b[1;32melse\u001b[0m\u001b[1;33m:\u001b[0m\u001b[1;33m\u001b[0m\u001b[0m\n\u001b[1;32m----> 8\u001b[1;33m             \u001b[0mcolumn_widths\u001b[0m \u001b[1;33m+=\u001b[0m \u001b[1;33m[\u001b[0m\u001b[0mlen\u001b[0m\u001b[1;33m(\u001b[0m\u001b[0mcell\u001b[0m\u001b[1;33m)\u001b[0m\u001b[1;33m]\u001b[0m\u001b[1;33m\u001b[0m\u001b[0m\n\u001b[0m\u001b[0;32m      9\u001b[0m \u001b[1;33m\u001b[0m\u001b[0m\n\u001b[0;32m     10\u001b[0m \u001b[1;32mfor\u001b[0m \u001b[0mi\u001b[0m\u001b[1;33m,\u001b[0m \u001b[0mcolumn_width\u001b[0m \u001b[1;32min\u001b[0m \u001b[0menumerate\u001b[0m\u001b[1;33m(\u001b[0m\u001b[0mcolumn_widths\u001b[0m\u001b[1;33m)\u001b[0m\u001b[1;33m:\u001b[0m\u001b[1;33m\u001b[0m\u001b[0m\n",
      "\u001b[1;31mTypeError\u001b[0m: object of type 'Cell' has no len()"
     ]
    }
   ],
   "source": [
    "column_widths = []\n",
    "\n",
    "for row in sheet['B2:C14']:\n",
    "    for i, cell in enumerate(row):\n",
    "        if len(column_widths) > i:\n",
    "            if len(cell) > column_widths[i]:\n",
    "                column_widths[i] = len(cell)\n",
    "        else:\n",
    "            column_widths += [len(cell)]\n",
    "\n",
    "for i, column_width in enumerate(column_widths):\n",
    "    sheet.column_dimensions[get_column_letter(i+1)].width = column_width"
   ]
  },
  {
   "cell_type": "code",
   "execution_count": 108,
   "metadata": {},
   "outputs": [],
   "source": [
    "for col in sheet['A2:C28']: #col의 type=tuple (shift+tab을 눌러 자료형 열람가능)\n",
    "    max_length = 0\n",
    "    for cell in col:\n",
    "        try: # Necessary to avoid error on empty cells\n",
    "             if len(str(cell.value)) > max_length:\n",
    "                max_length = len(cell.value)\n",
    "        except:\n",
    "             pass\n",
    "    adjusted_width = (max_length + 2) * 15\n",
    "    for i in range(3):\n",
    "        sheet.column_dimensions[col[i].column].width = adjusted_width #cell 때문에 column을 가져와야 한다."
   ]
  },
  {
   "cell_type": "code",
   "execution_count": 109,
   "metadata": {},
   "outputs": [],
   "source": [
    "wb.save(\"merged_05.xlsx\")"
   ]
  },
  {
   "cell_type": "code",
   "execution_count": 110,
   "metadata": {},
   "outputs": [],
   "source": [
    "#위의 코드와 합쳐도 무방하지만, 여기에서는 혼동을 막기 위해 분리해보았다.\n",
    "for col in sheet['A2:C28']:\n",
    "    for cell in range(3):\n",
    "        if(cell%2==0):\n",
    "            col[cell].font=font_15\n",
    "        else:\n",
    "            pass"
   ]
  },
  {
   "cell_type": "code",
   "execution_count": 111,
   "metadata": {},
   "outputs": [],
   "source": [
    "wb.save(\"merged_05.xlsx\")"
   ]
  },
  {
   "cell_type": "code",
   "execution_count": null,
   "metadata": {},
   "outputs": [],
   "source": []
  }
 ],
 "metadata": {
  "kernelspec": {
   "display_name": "Python 3",
   "language": "python",
   "name": "python3"
  },
  "language_info": {
   "codemirror_mode": {
    "name": "ipython",
    "version": 3
   },
   "file_extension": ".py",
   "mimetype": "text/x-python",
   "name": "python",
   "nbconvert_exporter": "python",
   "pygments_lexer": "ipython3",
   "version": "3.6.5"
  }
 },
 "nbformat": 4,
 "nbformat_minor": 2
}
